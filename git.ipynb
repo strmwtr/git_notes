{
 "cells": [
  {
   "cell_type": "markdown",
   "metadata": {},
   "source": [
    "Git and Github Notes"
   ]
  },
  {
   "cell_type": "code",
   "execution_count": null,
   "metadata": {},
   "outputs": [],
   "source": [
    "git config --list || shows config of git\n",
    "\n",
    "git init || initializes repo\n",
    "\n",
    "git add . || add all files to staging area\n",
    "\n",
    "git commit || commits filese to repo\n",
    "\n",
    "git status || shows status\n",
    "\n",
    "git diff || shows difference between current file and last commit\n",
    "\n",
    "git checkout -- . || clears all unstaged files\n",
    "\n",
    "git log || shows commit log\n",
    "\n",
    "git log --author = AUTHOREXAMPLE || searches log for author\n",
    "\n",
    "git log --grep = \"search term\" || searches log for term\n",
    "\n",
    "git shortlog || log of commits by author alphabetically\n",
    "\n",
    "git rebase -i HEAD~3 || squal last three commits into fourth commit\n",
    "\n",
    "git remote add origin https:\\\\github.com\\user\\project || connect to origin repo on github\n",
    "\n",
    "git push origin master || commits changes on origin repo to remote master repo\n",
    "\n",
    "git pull origin master || retrieve commits from the master brand on the origin remote repo\n",
    "\n",
    "get fetch origin master || \n",
    "\n",
    "git clone path/to/repo || clones repo\n",
    "\n",
    "git -c http.sslVerify=false clone path/to/repo || bypasses ssl certificate requirement\n"
   ]
  }
 ],
 "metadata": {
  "kernelspec": {
   "display_name": "Python 3",
   "language": "python",
   "name": "python3"
  },
  "language_info": {
   "codemirror_mode": {
    "name": "ipython",
    "version": 3
   },
   "file_extension": ".py",
   "mimetype": "text/x-python",
   "name": "python",
   "nbconvert_exporter": "python",
   "pygments_lexer": "ipython3",
   "version": "3.7.3"
  }
 },
 "nbformat": 4,
 "nbformat_minor": 2
}
